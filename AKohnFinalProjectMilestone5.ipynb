{
 "cells": [
  {
   "cell_type": "markdown",
   "id": "35103a03",
   "metadata": {},
   "source": [
    "# Aaron Kohn\n",
    "## Final Project; Universal Parks Ratings"
   ]
  },
  {
   "cell_type": "code",
   "execution_count": 59,
   "id": "e2acaf2f",
   "metadata": {},
   "outputs": [],
   "source": [
    "import pandas as pd\n",
    "import numpy as np\n",
    "import matplotlib.pyplot as plt\n",
    "import string\n",
    "import re\n",
    "from nltk.tokenize import word_tokenize, sent_tokenize\n",
    "from nltk.corpus import stopwords\n",
    "import nltk\n",
    "from nltk import pos_tag\n",
    "from sklearn.feature_extraction.text import TfidfVectorizer, CountVectorizer\n",
    "from sklearn.pipeline import Pipeline\n",
    "from sklearn.neural_network import MLPRegressor, MLPClassifier\n",
    "from sklearn.model_selection import cross_val_score\n",
    "from nltk.sentiment import SentimentIntensityAnalyzer\n",
    "from sklearn.metrics import confusion_matrix, ConfusionMatrixDisplay,  precision_recall_fscore_support, accuracy_score\n",
    "from yellowbrick.text.freqdist import FreqDistVisualizer\n"
   ]
  },
  {
   "cell_type": "code",
   "execution_count": 3,
   "id": "52078cf4",
   "metadata": {},
   "outputs": [],
   "source": [
    "# Load data\n",
    "universal_df = pd.read_csv('universal_studio_branches.csv')"
   ]
  },
  {
   "cell_type": "code",
   "execution_count": 4,
   "id": "b7ad6fad",
   "metadata": {},
   "outputs": [
    {
     "data": {
      "text/html": [
       "<div>\n",
       "<style scoped>\n",
       "    .dataframe tbody tr th:only-of-type {\n",
       "        vertical-align: middle;\n",
       "    }\n",
       "\n",
       "    .dataframe tbody tr th {\n",
       "        vertical-align: top;\n",
       "    }\n",
       "\n",
       "    .dataframe thead th {\n",
       "        text-align: right;\n",
       "    }\n",
       "</style>\n",
       "<table border=\"1\" class=\"dataframe\">\n",
       "  <thead>\n",
       "    <tr style=\"text-align: right;\">\n",
       "      <th></th>\n",
       "      <th>reviewer</th>\n",
       "      <th>rating</th>\n",
       "      <th>written_date</th>\n",
       "      <th>title</th>\n",
       "      <th>review_text</th>\n",
       "      <th>branch</th>\n",
       "    </tr>\n",
       "  </thead>\n",
       "  <tbody>\n",
       "    <tr>\n",
       "      <th>0</th>\n",
       "      <td>Kelly B</td>\n",
       "      <td>2.0</td>\n",
       "      <td>May 30, 2021</td>\n",
       "      <td>Universal is a complete Disaster - stick with ...</td>\n",
       "      <td>We went to Universal over Memorial Day weekend...</td>\n",
       "      <td>Universal Studios Florida</td>\n",
       "    </tr>\n",
       "    <tr>\n",
       "      <th>1</th>\n",
       "      <td>Jon</td>\n",
       "      <td>1.0</td>\n",
       "      <td>May 30, 2021</td>\n",
       "      <td>Food is hard to get.</td>\n",
       "      <td>The food service is horrible. I’m not reviewin...</td>\n",
       "      <td>Universal Studios Florida</td>\n",
       "    </tr>\n",
       "    <tr>\n",
       "      <th>2</th>\n",
       "      <td>Nerdy P</td>\n",
       "      <td>2.0</td>\n",
       "      <td>May 30, 2021</td>\n",
       "      <td>Disappointed</td>\n",
       "      <td>I booked this vacation mainly to ride Hagrid m...</td>\n",
       "      <td>Universal Studios Florida</td>\n",
       "    </tr>\n",
       "    <tr>\n",
       "      <th>3</th>\n",
       "      <td>ran101278</td>\n",
       "      <td>4.0</td>\n",
       "      <td>May 29, 2021</td>\n",
       "      <td>My opinion</td>\n",
       "      <td>When a person tries the test seat for the ride...</td>\n",
       "      <td>Universal Studios Florida</td>\n",
       "    </tr>\n",
       "    <tr>\n",
       "      <th>4</th>\n",
       "      <td>tammies20132015</td>\n",
       "      <td>5.0</td>\n",
       "      <td>May 28, 2021</td>\n",
       "      <td>The Bourne Stuntacular...MUST SEE</td>\n",
       "      <td>Ok, I can't stress enough to anyone and everyo...</td>\n",
       "      <td>Universal Studios Florida</td>\n",
       "    </tr>\n",
       "  </tbody>\n",
       "</table>\n",
       "</div>"
      ],
      "text/plain": [
       "          reviewer  rating  written_date  \\\n",
       "0          Kelly B     2.0  May 30, 2021   \n",
       "1              Jon     1.0  May 30, 2021   \n",
       "2          Nerdy P     2.0  May 30, 2021   \n",
       "3        ran101278     4.0  May 29, 2021   \n",
       "4  tammies20132015     5.0  May 28, 2021   \n",
       "\n",
       "                                               title  \\\n",
       "0  Universal is a complete Disaster - stick with ...   \n",
       "1                               Food is hard to get.   \n",
       "2                                       Disappointed   \n",
       "3                                         My opinion   \n",
       "4                  The Bourne Stuntacular...MUST SEE   \n",
       "\n",
       "                                         review_text  \\\n",
       "0  We went to Universal over Memorial Day weekend...   \n",
       "1  The food service is horrible. I’m not reviewin...   \n",
       "2  I booked this vacation mainly to ride Hagrid m...   \n",
       "3  When a person tries the test seat for the ride...   \n",
       "4  Ok, I can't stress enough to anyone and everyo...   \n",
       "\n",
       "                      branch  \n",
       "0  Universal Studios Florida  \n",
       "1  Universal Studios Florida  \n",
       "2  Universal Studios Florida  \n",
       "3  Universal Studios Florida  \n",
       "4  Universal Studios Florida  "
      ]
     },
     "execution_count": 4,
     "metadata": {},
     "output_type": "execute_result"
    }
   ],
   "source": [
    "# View data\n",
    "universal_df.head()"
   ]
  },
  {
   "cell_type": "code",
   "execution_count": 5,
   "id": "bc2b1c4e",
   "metadata": {},
   "outputs": [
    {
     "name": "stdout",
     "output_type": "stream",
     "text": [
      "55\n",
      "2\n",
      "0\n"
     ]
    }
   ],
   "source": [
    "# Check for duplicates\n",
    "print(sum(universal_df.duplicated(subset = ['review_text', 'rating']))) # Get some of duplicates reviews and ratings\n",
    "universal_df.drop_duplicates(subset = ['review_text', 'rating'], inplace=True) # Drop duplicates\n",
    "print(sum(universal_df.duplicated(subset = ['review_text']))) # Check for duplicate review text with different ratings\n",
    "print(sum(universal_df.duplicated())) # Check for completely duplicate rows\n",
    "\n",
    "universal_df.drop(['reviewer'], axis=1, inplace=True) # Drop reviewr names"
   ]
  },
  {
   "cell_type": "code",
   "execution_count": 6,
   "id": "3a979bba",
   "metadata": {},
   "outputs": [
    {
     "data": {
      "text/html": [
       "<div>\n",
       "<style scoped>\n",
       "    .dataframe tbody tr th:only-of-type {\n",
       "        vertical-align: middle;\n",
       "    }\n",
       "\n",
       "    .dataframe tbody tr th {\n",
       "        vertical-align: top;\n",
       "    }\n",
       "\n",
       "    .dataframe thead th {\n",
       "        text-align: right;\n",
       "    }\n",
       "</style>\n",
       "<table border=\"1\" class=\"dataframe\">\n",
       "  <thead>\n",
       "    <tr style=\"text-align: right;\">\n",
       "      <th></th>\n",
       "      <th>rating</th>\n",
       "      <th>written_date</th>\n",
       "      <th>title</th>\n",
       "      <th>review_text</th>\n",
       "      <th>branch</th>\n",
       "    </tr>\n",
       "  </thead>\n",
       "  <tbody>\n",
       "    <tr>\n",
       "      <th>3087</th>\n",
       "      <td>3.0</td>\n",
       "      <td>February 13, 2019</td>\n",
       "      <td>Harry Potter area is A+, Mummy is A, all else ...</td>\n",
       "      <td>Harry Potter area is A+, Mummy is A, all else ...</td>\n",
       "      <td>Universal Studios Florida</td>\n",
       "    </tr>\n",
       "    <tr>\n",
       "      <th>10866</th>\n",
       "      <td>2.0</td>\n",
       "      <td>March 13, 2017</td>\n",
       "      <td>Harry Potter area is A+, Mummy is A, all else ...</td>\n",
       "      <td>Harry Potter area is A+, Mummy is A, all else ...</td>\n",
       "      <td>Universal Studios Florida</td>\n",
       "    </tr>\n",
       "    <tr>\n",
       "      <th>47151</th>\n",
       "      <td>4.0</td>\n",
       "      <td>May 9, 2014</td>\n",
       "      <td>A must...</td>\n",
       "      <td>You must go to Sentosa Island and see Universa...</td>\n",
       "      <td>Universal Studios Singapore</td>\n",
       "    </tr>\n",
       "    <tr>\n",
       "      <th>47197</th>\n",
       "      <td>5.0</td>\n",
       "      <td>April 29, 2014</td>\n",
       "      <td>Can't miss it!</td>\n",
       "      <td>You must go to Sentosa Island and see Universa...</td>\n",
       "      <td>Universal Studios Singapore</td>\n",
       "    </tr>\n",
       "  </tbody>\n",
       "</table>\n",
       "</div>"
      ],
      "text/plain": [
       "       rating       written_date  \\\n",
       "3087      3.0  February 13, 2019   \n",
       "10866     2.0     March 13, 2017   \n",
       "47151     4.0        May 9, 2014   \n",
       "47197     5.0     April 29, 2014   \n",
       "\n",
       "                                                   title  \\\n",
       "3087   Harry Potter area is A+, Mummy is A, all else ...   \n",
       "10866  Harry Potter area is A+, Mummy is A, all else ...   \n",
       "47151                                          A must...   \n",
       "47197                                     Can't miss it!   \n",
       "\n",
       "                                             review_text  \\\n",
       "3087   Harry Potter area is A+, Mummy is A, all else ...   \n",
       "10866  Harry Potter area is A+, Mummy is A, all else ...   \n",
       "47151  You must go to Sentosa Island and see Universa...   \n",
       "47197  You must go to Sentosa Island and see Universa...   \n",
       "\n",
       "                            branch  \n",
       "3087     Universal Studios Florida  \n",
       "10866    Universal Studios Florida  \n",
       "47151  Universal Studios Singapore  \n",
       "47197  Universal Studios Singapore  "
      ]
     },
     "execution_count": 6,
     "metadata": {},
     "output_type": "execute_result"
    }
   ],
   "source": [
    "universal_df[universal_df.duplicated(subset = ['review_text'], keep= False)] # View duplicated reviews with different ratings"
   ]
  },
  {
   "cell_type": "code",
   "execution_count": 7,
   "id": "c26cf6c4",
   "metadata": {},
   "outputs": [
    {
     "data": {
      "text/plain": [
       "(50845, 5)"
      ]
     },
     "execution_count": 7,
     "metadata": {},
     "output_type": "execute_result"
    }
   ],
   "source": [
    "universal_df.drop_duplicates(subset = ['review_text'], keep= False, inplace= True) # Drop rows of conflicting scores\n",
    "universal_df.shape # View shape"
   ]
  },
  {
   "cell_type": "code",
   "execution_count": 8,
   "id": "822e7e75",
   "metadata": {},
   "outputs": [
    {
     "data": {
      "text/html": [
       "<div>\n",
       "<style scoped>\n",
       "    .dataframe tbody tr th:only-of-type {\n",
       "        vertical-align: middle;\n",
       "    }\n",
       "\n",
       "    .dataframe tbody tr th {\n",
       "        vertical-align: top;\n",
       "    }\n",
       "\n",
       "    .dataframe thead tr th {\n",
       "        text-align: left;\n",
       "    }\n",
       "\n",
       "    .dataframe thead tr:last-of-type th {\n",
       "        text-align: right;\n",
       "    }\n",
       "</style>\n",
       "<table border=\"1\" class=\"dataframe\">\n",
       "  <thead>\n",
       "    <tr>\n",
       "      <th></th>\n",
       "      <th colspan=\"8\" halign=\"left\">rating</th>\n",
       "    </tr>\n",
       "    <tr>\n",
       "      <th></th>\n",
       "      <th>count</th>\n",
       "      <th>mean</th>\n",
       "      <th>std</th>\n",
       "      <th>min</th>\n",
       "      <th>25%</th>\n",
       "      <th>50%</th>\n",
       "      <th>75%</th>\n",
       "      <th>max</th>\n",
       "    </tr>\n",
       "    <tr>\n",
       "      <th>branch</th>\n",
       "      <th></th>\n",
       "      <th></th>\n",
       "      <th></th>\n",
       "      <th></th>\n",
       "      <th></th>\n",
       "      <th></th>\n",
       "      <th></th>\n",
       "      <th></th>\n",
       "    </tr>\n",
       "  </thead>\n",
       "  <tbody>\n",
       "    <tr>\n",
       "      <th>Universal Studios Florida</th>\n",
       "      <td>30581.0</td>\n",
       "      <td>4.266963</td>\n",
       "      <td>1.092853</td>\n",
       "      <td>1.0</td>\n",
       "      <td>4.0</td>\n",
       "      <td>5.0</td>\n",
       "      <td>5.0</td>\n",
       "      <td>5.0</td>\n",
       "    </tr>\n",
       "    <tr>\n",
       "      <th>Universal Studios Japan</th>\n",
       "      <td>4527.0</td>\n",
       "      <td>4.130992</td>\n",
       "      <td>1.049306</td>\n",
       "      <td>1.0</td>\n",
       "      <td>4.0</td>\n",
       "      <td>4.0</td>\n",
       "      <td>5.0</td>\n",
       "      <td>5.0</td>\n",
       "    </tr>\n",
       "    <tr>\n",
       "      <th>Universal Studios Singapore</th>\n",
       "      <td>15737.0</td>\n",
       "      <td>4.274639</td>\n",
       "      <td>0.946289</td>\n",
       "      <td>1.0</td>\n",
       "      <td>4.0</td>\n",
       "      <td>5.0</td>\n",
       "      <td>5.0</td>\n",
       "      <td>5.0</td>\n",
       "    </tr>\n",
       "  </tbody>\n",
       "</table>\n",
       "</div>"
      ],
      "text/plain": [
       "                              rating                                          \\\n",
       "                               count      mean       std  min  25%  50%  75%   \n",
       "branch                                                                         \n",
       "Universal Studios Florida    30581.0  4.266963  1.092853  1.0  4.0  5.0  5.0   \n",
       "Universal Studios Japan       4527.0  4.130992  1.049306  1.0  4.0  4.0  5.0   \n",
       "Universal Studios Singapore  15737.0  4.274639  0.946289  1.0  4.0  5.0  5.0   \n",
       "\n",
       "                                  \n",
       "                             max  \n",
       "branch                            \n",
       "Universal Studios Florida    5.0  \n",
       "Universal Studios Japan      5.0  \n",
       "Universal Studios Singapore  5.0  "
      ]
     },
     "execution_count": 8,
     "metadata": {},
     "output_type": "execute_result"
    }
   ],
   "source": [
    "universal_df.groupby('branch').describe() # Summary statistics of rating by park"
   ]
  },
  {
   "cell_type": "code",
   "execution_count": 9,
   "id": "f239129d",
   "metadata": {},
   "outputs": [
    {
     "data": {
      "text/html": [
       "<div>\n",
       "<style scoped>\n",
       "    .dataframe tbody tr th:only-of-type {\n",
       "        vertical-align: middle;\n",
       "    }\n",
       "\n",
       "    .dataframe tbody tr th {\n",
       "        vertical-align: top;\n",
       "    }\n",
       "\n",
       "    .dataframe thead tr th {\n",
       "        text-align: left;\n",
       "    }\n",
       "\n",
       "    .dataframe thead tr:last-of-type th {\n",
       "        text-align: right;\n",
       "    }\n",
       "</style>\n",
       "<table border=\"1\" class=\"dataframe\">\n",
       "  <thead>\n",
       "    <tr>\n",
       "      <th></th>\n",
       "      <th colspan=\"4\" halign=\"left\">written_date</th>\n",
       "      <th colspan=\"4\" halign=\"left\">title</th>\n",
       "      <th colspan=\"4\" halign=\"left\">review_text</th>\n",
       "    </tr>\n",
       "    <tr>\n",
       "      <th></th>\n",
       "      <th>count</th>\n",
       "      <th>unique</th>\n",
       "      <th>top</th>\n",
       "      <th>freq</th>\n",
       "      <th>count</th>\n",
       "      <th>unique</th>\n",
       "      <th>top</th>\n",
       "      <th>freq</th>\n",
       "      <th>count</th>\n",
       "      <th>unique</th>\n",
       "      <th>top</th>\n",
       "      <th>freq</th>\n",
       "    </tr>\n",
       "    <tr>\n",
       "      <th>branch</th>\n",
       "      <th></th>\n",
       "      <th></th>\n",
       "      <th></th>\n",
       "      <th></th>\n",
       "      <th></th>\n",
       "      <th></th>\n",
       "      <th></th>\n",
       "      <th></th>\n",
       "      <th></th>\n",
       "      <th></th>\n",
       "      <th></th>\n",
       "      <th></th>\n",
       "    </tr>\n",
       "  </thead>\n",
       "  <tbody>\n",
       "    <tr>\n",
       "      <th>Universal Studios Florida</th>\n",
       "      <td>30581</td>\n",
       "      <td>4086</td>\n",
       "      <td>September 1, 2015</td>\n",
       "      <td>50</td>\n",
       "      <td>30581</td>\n",
       "      <td>22716</td>\n",
       "      <td>Amazing</td>\n",
       "      <td>211</td>\n",
       "      <td>30581</td>\n",
       "      <td>30581</td>\n",
       "      <td>I like Universal. I have been there more than ...</td>\n",
       "      <td>1</td>\n",
       "    </tr>\n",
       "    <tr>\n",
       "      <th>Universal Studios Japan</th>\n",
       "      <td>4527</td>\n",
       "      <td>2025</td>\n",
       "      <td>December 29, 2015</td>\n",
       "      <td>10</td>\n",
       "      <td>4527</td>\n",
       "      <td>4033</td>\n",
       "      <td>Awesome</td>\n",
       "      <td>18</td>\n",
       "      <td>4527</td>\n",
       "      <td>4527</td>\n",
       "      <td>We had a wonderful time at USJ. The park was s...</td>\n",
       "      <td>1</td>\n",
       "    </tr>\n",
       "    <tr>\n",
       "      <th>Universal Studios Singapore</th>\n",
       "      <td>15737</td>\n",
       "      <td>3294</td>\n",
       "      <td>September 3, 2013</td>\n",
       "      <td>29</td>\n",
       "      <td>15737</td>\n",
       "      <td>12498</td>\n",
       "      <td>Great day out</td>\n",
       "      <td>118</td>\n",
       "      <td>15737</td>\n",
       "      <td>15737</td>\n",
       "      <td>Huge disappointment. Too many people. 4th Octo...</td>\n",
       "      <td>1</td>\n",
       "    </tr>\n",
       "  </tbody>\n",
       "</table>\n",
       "</div>"
      ],
      "text/plain": [
       "                            written_date                                 \\\n",
       "                                   count unique                top freq   \n",
       "branch                                                                    \n",
       "Universal Studios Florida          30581   4086  September 1, 2015   50   \n",
       "Universal Studios Japan             4527   2025  December 29, 2015   10   \n",
       "Universal Studios Singapore        15737   3294  September 3, 2013   29   \n",
       "\n",
       "                             title                            review_text  \\\n",
       "                             count unique            top freq       count   \n",
       "branch                                                                      \n",
       "Universal Studios Florida    30581  22716        Amazing  211       30581   \n",
       "Universal Studios Japan       4527   4033        Awesome   18        4527   \n",
       "Universal Studios Singapore  15737  12498  Great day out  118       15737   \n",
       "\n",
       "                                    \\\n",
       "                            unique   \n",
       "branch                               \n",
       "Universal Studios Florida    30581   \n",
       "Universal Studios Japan       4527   \n",
       "Universal Studios Singapore  15737   \n",
       "\n",
       "                                                                                \\\n",
       "                                                                           top   \n",
       "branch                                                                           \n",
       "Universal Studios Florida    I like Universal. I have been there more than ...   \n",
       "Universal Studios Japan      We had a wonderful time at USJ. The park was s...   \n",
       "Universal Studios Singapore  Huge disappointment. Too many people. 4th Octo...   \n",
       "\n",
       "                                  \n",
       "                            freq  \n",
       "branch                            \n",
       "Universal Studios Florida      1  \n",
       "Universal Studios Japan        1  \n",
       "Universal Studios Singapore    1  "
      ]
     },
     "execution_count": 9,
     "metadata": {},
     "output_type": "execute_result"
    }
   ],
   "source": [
    "universal_df.groupby('branch').describe(include= 'O') # Data description by park"
   ]
  },
  {
   "cell_type": "code",
   "execution_count": 10,
   "id": "e106e7a7",
   "metadata": {},
   "outputs": [
    {
     "data": {
      "image/png": "[encoded data removed]",
      "text/plain": [
       "<Figure size 1440x1080 with 6 Axes>"
      ]
     },
     "metadata": {
      "needs_background": "light"
     },
     "output_type": "display_data"
    }
   ],
   "source": [
    "# set up the figure size\n",
    "plt.rcParams['figure.figsize'] = (20, 15)\n",
    "\n",
    "# make subplots\n",
    "fig, axes = plt.subplots(nrows = 3, ncols = 2)\n",
    "\n",
    "# Get Data for parks\n",
    "X_Survived = universal_df.groupby('branch').size().reset_index(name='Counts')['branch']\n",
    "Y_Survived = universal_df.groupby('branch').size().reset_index(name='Counts')['Counts']\n",
    "# Make bar plots\n",
    "axes[0, 0].bar(X_Survived, Y_Survived)\n",
    "axes[0, 0].set_title('branch', fontsize=25)\n",
    "axes[0, 0].set_ylabel('Counts', fontsize=20)\n",
    "axes[0, 0].tick_params(axis='both', labelsize=12)\n",
    "\n",
    "# Get data for ratings\n",
    "X_Survived = universal_df.groupby('rating').size().reset_index(name='Counts')['rating']\n",
    "Y_Survived = universal_df.groupby('rating').size().reset_index(name='Counts')['Counts']\n",
    "# Make bar plots\n",
    "axes[0, 1].bar(X_Survived, Y_Survived)\n",
    "axes[0, 1].set_title('Overall rating', fontsize=25)\n",
    "axes[0, 1].set_ylabel('Counts', fontsize=20)\n",
    "axes[0, 1].tick_params(axis='both', labelsize=12)\n",
    "\n",
    "# Get data for ratings for 'Florida' branch\n",
    "X_Survived = universal_df[universal_df['branch']=='Universal Studios Florida'].groupby('rating').size().reset_index(name='Counts')['rating']\n",
    "Y_Survived = universal_df[universal_df['branch']=='Universal Studios Florida'].groupby('rating').size().reset_index(name='Counts')['Counts']\n",
    "\n",
    "axes[1, 1].bar(X_Survived, Y_Survived)\n",
    "axes[1, 1].set_title('Florida rating', fontsize=25)\n",
    "axes[1, 1].set_ylabel('Counts', fontsize=20)\n",
    "axes[1, 1].tick_params(axis='both', labelsize=12)\n",
    "axes[1, 1].set_ylim(0,19000)\n",
    "\n",
    "# Get data for ratings for 'Singapore' branch\n",
    "X_Survived = universal_df[universal_df['branch']=='Universal Studios Singapore'].groupby('rating').size().reset_index(name='Counts')['rating']\n",
    "Y_Survived = universal_df[universal_df['branch']=='Universal Studios Singapore'].groupby('rating').size().reset_index(name='Counts')['Counts']\n",
    "# Make bar plots\n",
    "axes[1, 0].bar(X_Survived, Y_Survived)\n",
    "axes[1, 0].set_title('Singapore rating', fontsize=25)\n",
    "axes[1, 0].set_ylabel('Counts', fontsize=20)\n",
    "axes[1, 0].tick_params(axis='both', labelsize=12)\n",
    "axes[1, 0].set_ylim(0,19000)\n",
    "\n",
    "# Get data for ratings for 'Japan' branch\n",
    "X_Survived = universal_df[universal_df['branch']=='Universal Studios Japan'].groupby('rating').size().reset_index(name='Counts')['rating']\n",
    "Y_Survived = universal_df[universal_df['branch']=='Universal Studios Japan'].groupby('rating').size().reset_index(name='Counts')['Counts']\n",
    "# Make bar plots\n",
    "axes[2, 0].bar(X_Survived, Y_Survived)\n",
    "axes[2, 0].set_title('Japan rating', fontsize=25)\n",
    "axes[2, 0].set_ylabel('Counts', fontsize=20)\n",
    "axes[2, 0].tick_params(axis='both', labelsize=12)\n",
    "axes[2, 0].set_ylim(0,19000);"
   ]
  },
  {
   "cell_type": "code",
   "execution_count": 11,
   "id": "f39f0092",
   "metadata": {},
   "outputs": [
    {
     "data": {
      "text/plain": [
       "rating          0\n",
       "written_date    0\n",
       "title           0\n",
       "review_text     0\n",
       "branch          0\n",
       "dtype: int64"
      ]
     },
     "execution_count": 11,
     "metadata": {},
     "output_type": "execute_result"
    }
   ],
   "source": [
    "universal_df.isna().sum() # Check for missing data"
   ]
  },
  {
   "cell_type": "code",
   "execution_count": 12,
   "id": "7af0a71b",
   "metadata": {},
   "outputs": [],
   "source": [
    "# Apply part of speech tags (not used for this analysis)\n",
    "universal_df['tagged_review'] = universal_df['review_text'].apply(lambda x : pos_tag(word_tokenize(x))) "
   ]
  },
  {
   "cell_type": "code",
   "execution_count": 13,
   "id": "261a7baf",
   "metadata": {},
   "outputs": [],
   "source": [
    "def clean_text(text):\n",
    "    # Clean text, remove end of lines, remove uppercase letters, puctuation and numbers.\n",
    "    text = text.replace('\\n','')\n",
    "    text = text.lower()\n",
    "    text = text.translate(str.maketrans('', '', string.punctuation))\n",
    "    r=re.compile(r'\\d')\n",
    "    text = r.sub('', text)\n",
    "    text = text.strip()\n",
    "    return text\n",
    "\n",
    "def stringit(x):\n",
    "    # Convert list of words to string\n",
    "    y = \" \"\n",
    "    \n",
    "    return y.join(x)\n",
    "def normalize_text(df, col, add_on= ''):\n",
    "    # Clean, Tokenize, and stem text. Remove stopwords from text. Returns a cleaned column, a tokenized column, and a column of tokens as string\n",
    "    df['clean_txt' + add_on] = df[col].apply(lambda x : clean_text(x))\n",
    "    df['tokenized_txt' + add_on] = df['clean_txt' + add_on].apply(lambda x : word_tokenize(x))\n",
    "    stopword = stopwords.words('english') # Set stopwords\n",
    "    df['tokenized_txt' + add_on] = df['tokenized_txt' + add_on].apply(lambda x : [word for word in x if word not in stopword]) # Remove stopwords for each row\n",
    "    porter = nltk.stem.PorterStemmer() # Create stemmer\n",
    "    df['stemmed_txt' + add_on] = df['tokenized_txt' +add_on].apply(lambda x : [porter.stem(word) for word in x]) \n",
    "    df['stemmed_string' + add_on] = df['stemmed_txt' + add_on].apply(lambda x : stringit(x))"
   ]
  },
  {
   "cell_type": "code",
   "execution_count": 14,
   "id": "242cee74",
   "metadata": {},
   "outputs": [],
   "source": [
    "normalize_text(universal_df, 'review_text', add_on= '_review') # Apply normilization"
   ]
  },
  {
   "cell_type": "code",
   "execution_count": 15,
   "id": "fa93c1ce",
   "metadata": {},
   "outputs": [
    {
     "data": {
      "text/html": [
       "<div>\n",
       "<style scoped>\n",
       "    .dataframe tbody tr th:only-of-type {\n",
       "        vertical-align: middle;\n",
       "    }\n",
       "\n",
       "    .dataframe tbody tr th {\n",
       "        vertical-align: top;\n",
       "    }\n",
       "\n",
       "    .dataframe thead th {\n",
       "        text-align: right;\n",
       "    }\n",
       "</style>\n",
       "<table border=\"1\" class=\"dataframe\">\n",
       "  <thead>\n",
       "    <tr style=\"text-align: right;\">\n",
       "      <th></th>\n",
       "      <th>rating</th>\n",
       "      <th>written_date</th>\n",
       "      <th>title</th>\n",
       "      <th>review_text</th>\n",
       "      <th>branch</th>\n",
       "      <th>tagged_review</th>\n",
       "      <th>clean_txt_review</th>\n",
       "      <th>tokenized_txt_review</th>\n",
       "      <th>stemmed_txt_review</th>\n",
       "      <th>stemmed_string_review</th>\n",
       "    </tr>\n",
       "  </thead>\n",
       "  <tbody>\n",
       "    <tr>\n",
       "      <th>0</th>\n",
       "      <td>2.0</td>\n",
       "      <td>May 30, 2021</td>\n",
       "      <td>Universal is a complete Disaster - stick with ...</td>\n",
       "      <td>We went to Universal over Memorial Day weekend...</td>\n",
       "      <td>Universal Studios Florida</td>\n",
       "      <td>[(We, PRP), (went, VBD), (to, TO), (Universal,...</td>\n",
       "      <td>we went to universal over memorial day weekend...</td>\n",
       "      <td>[went, universal, memorial, day, weekend, tota...</td>\n",
       "      <td>[went, univers, memori, day, weekend, total, t...</td>\n",
       "      <td>went univers memori day weekend total train wr...</td>\n",
       "    </tr>\n",
       "    <tr>\n",
       "      <th>1</th>\n",
       "      <td>1.0</td>\n",
       "      <td>May 30, 2021</td>\n",
       "      <td>Food is hard to get.</td>\n",
       "      <td>The food service is horrible. I’m not reviewin...</td>\n",
       "      <td>Universal Studios Florida</td>\n",
       "      <td>[(The, DT), (food, NN), (service, NN), (is, VB...</td>\n",
       "      <td>the food service is horrible i’m not reviewing...</td>\n",
       "      <td>[food, service, horrible, ’, reviewing, food, ...</td>\n",
       "      <td>[food, servic, horribl, ’, review, food, ’, wa...</td>\n",
       "      <td>food servic horribl ’ review food ’ wait time ...</td>\n",
       "    </tr>\n",
       "    <tr>\n",
       "      <th>2</th>\n",
       "      <td>2.0</td>\n",
       "      <td>May 30, 2021</td>\n",
       "      <td>Disappointed</td>\n",
       "      <td>I booked this vacation mainly to ride Hagrid m...</td>\n",
       "      <td>Universal Studios Florida</td>\n",
       "      <td>[(I, PRP), (booked, VBD), (this, DT), (vacatio...</td>\n",
       "      <td>i booked this vacation mainly to ride hagrid m...</td>\n",
       "      <td>[booked, vacation, mainly, ride, hagrid, motor...</td>\n",
       "      <td>[book, vacat, mainli, ride, hagrid, motorcycl,...</td>\n",
       "      <td>book vacat mainli ride hagrid motorcycl advent...</td>\n",
       "    </tr>\n",
       "    <tr>\n",
       "      <th>3</th>\n",
       "      <td>4.0</td>\n",
       "      <td>May 29, 2021</td>\n",
       "      <td>My opinion</td>\n",
       "      <td>When a person tries the test seat for the ride...</td>\n",
       "      <td>Universal Studios Florida</td>\n",
       "      <td>[(When, WRB), (a, DT), (person, NN), (tries, V...</td>\n",
       "      <td>when a person tries the test seat for the ride...</td>\n",
       "      <td>[person, tries, test, seat, rides, gets, green...</td>\n",
       "      <td>[person, tri, test, seat, ride, get, green, li...</td>\n",
       "      <td>person tri test seat ride get green light go l...</td>\n",
       "    </tr>\n",
       "    <tr>\n",
       "      <th>4</th>\n",
       "      <td>5.0</td>\n",
       "      <td>May 28, 2021</td>\n",
       "      <td>The Bourne Stuntacular...MUST SEE</td>\n",
       "      <td>Ok, I can't stress enough to anyone and everyo...</td>\n",
       "      <td>Universal Studios Florida</td>\n",
       "      <td>[(Ok, NNP), (,, ,), (I, PRP), (ca, MD), (n't, ...</td>\n",
       "      <td>ok i cant stress enough to anyone and everyone...</td>\n",
       "      <td>[ok, cant, stress, enough, anyone, everyone, g...</td>\n",
       "      <td>[ok, cant, stress, enough, anyon, everyon, go,...</td>\n",
       "      <td>ok cant stress enough anyon everyon go univers...</td>\n",
       "    </tr>\n",
       "  </tbody>\n",
       "</table>\n",
       "</div>"
      ],
      "text/plain": [
       "   rating  written_date                                              title  \\\n",
       "0     2.0  May 30, 2021  Universal is a complete Disaster - stick with ...   \n",
       "1     1.0  May 30, 2021                               Food is hard to get.   \n",
       "2     2.0  May 30, 2021                                       Disappointed   \n",
       "3     4.0  May 29, 2021                                         My opinion   \n",
       "4     5.0  May 28, 2021                  The Bourne Stuntacular...MUST SEE   \n",
       "\n",
       "                                         review_text  \\\n",
       "0  We went to Universal over Memorial Day weekend...   \n",
       "1  The food service is horrible. I’m not reviewin...   \n",
       "2  I booked this vacation mainly to ride Hagrid m...   \n",
       "3  When a person tries the test seat for the ride...   \n",
       "4  Ok, I can't stress enough to anyone and everyo...   \n",
       "\n",
       "                      branch  \\\n",
       "0  Universal Studios Florida   \n",
       "1  Universal Studios Florida   \n",
       "2  Universal Studios Florida   \n",
       "3  Universal Studios Florida   \n",
       "4  Universal Studios Florida   \n",
       "\n",
       "                                       tagged_review  \\\n",
       "0  [(We, PRP), (went, VBD), (to, TO), (Universal,...   \n",
       "1  [(The, DT), (food, NN), (service, NN), (is, VB...   \n",
       "2  [(I, PRP), (booked, VBD), (this, DT), (vacatio...   \n",
       "3  [(When, WRB), (a, DT), (person, NN), (tries, V...   \n",
       "4  [(Ok, NNP), (,, ,), (I, PRP), (ca, MD), (n't, ...   \n",
       "\n",
       "                                    clean_txt_review  \\\n",
       "0  we went to universal over memorial day weekend...   \n",
       "1  the food service is horrible i’m not reviewing...   \n",
       "2  i booked this vacation mainly to ride hagrid m...   \n",
       "3  when a person tries the test seat for the ride...   \n",
       "4  ok i cant stress enough to anyone and everyone...   \n",
       "\n",
       "                                tokenized_txt_review  \\\n",
       "0  [went, universal, memorial, day, weekend, tota...   \n",
       "1  [food, service, horrible, ’, reviewing, food, ...   \n",
       "2  [booked, vacation, mainly, ride, hagrid, motor...   \n",
       "3  [person, tries, test, seat, rides, gets, green...   \n",
       "4  [ok, cant, stress, enough, anyone, everyone, g...   \n",
       "\n",
       "                                  stemmed_txt_review  \\\n",
       "0  [went, univers, memori, day, weekend, total, t...   \n",
       "1  [food, servic, horribl, ’, review, food, ’, wa...   \n",
       "2  [book, vacat, mainli, ride, hagrid, motorcycl,...   \n",
       "3  [person, tri, test, seat, ride, get, green, li...   \n",
       "4  [ok, cant, stress, enough, anyon, everyon, go,...   \n",
       "\n",
       "                               stemmed_string_review  \n",
       "0  went univers memori day weekend total train wr...  \n",
       "1  food servic horribl ’ review food ’ wait time ...  \n",
       "2  book vacat mainli ride hagrid motorcycl advent...  \n",
       "3  person tri test seat ride get green light go l...  \n",
       "4  ok cant stress enough anyon everyon go univers...  "
      ]
     },
     "execution_count": 15,
     "metadata": {},
     "output_type": "execute_result"
    }
   ],
   "source": [
    "universal_df.head() # View data frame with all added columns"
   ]
  },
  {
   "cell_type": "code",
   "execution_count": 16,
   "id": "d0b5043d",
   "metadata": {},
   "outputs": [],
   "source": [
    "# Apply nltk sentiment analyzer to data frame and return a 1-5 rating score\n",
    "sia = SentimentIntensityAnalyzer() # Set analyzer\n",
    "universal_df['review_sentiment_compound'] = universal_df['review_text'].apply(lambda x : sia.polarity_scores(x)['compound']) # Analyze text and get compound score\n",
    "def convert(n):\n",
    "    # Convert returned result from -1 to 1 scale to standard 1-5 rating scale\n",
    "    x = n + 3 + n  # Formula for converting scores\n",
    "    return round(x)\n",
    "universal_df['sentiment_rating'] = universal_df['review_sentiment_compound'].apply(lambda x : convert(x))"
   ]
  },
  {
   "cell_type": "code",
   "execution_count": 17,
   "id": "40f55278",
   "metadata": {},
   "outputs": [
    {
     "name": "stdout",
     "output_type": "stream",
     "text": [
      "Accuracy:  0.5220769003835185\n",
      "Precision: [0.38225256 0.14353839 0.20843672 0.27789256 0.62034967]\n",
      "Recall:    [0.28455285 0.15179022 0.09647779 0.15944284 0.81737834]\n",
      "F1 score:  [0.32624527 0.14754902 0.13190264 0.20262699 0.70536343]\n"
     ]
    },
    {
     "data": {
      "image/png": "[encoded data removed]",
      "text/plain": [
       "<Figure size 720x576 with 2 Axes>"
      ]
     },
     "metadata": {
      "needs_background": "light"
     },
     "output_type": "display_data"
    }
   ],
   "source": [
    "# Get accuracy and precision, recall and F1 scores\n",
    "print('Accuracy: ',accuracy_score(universal_df['rating'], universal_df['sentiment_rating']))\n",
    "score_list = precision_recall_fscore_support(universal_df['rating'], universal_df['sentiment_rating']) # Get precision, recall, and f1 scores\n",
    "print('Precision:', score_list[0])\n",
    "print('Recall:   ', score_list[1])\n",
    "print('F1 score: ', score_list[2])\n",
    "fig, ax = plt.subplots(figsize=(10,8))\n",
    "# Create a confusion matrix of results\n",
    "mat = ConfusionMatrixDisplay(confusion_matrix(universal_df['rating'], universal_df['sentiment_rating']),\n",
    "                            display_labels=['1','2','3','4','5'])\n",
    "\n",
    "mat.plot(ax=ax);"
   ]
  },
  {
   "cell_type": "code",
   "execution_count": 18,
   "id": "2d3b1d53",
   "metadata": {},
   "outputs": [],
   "source": [
    "# Apply Keras model to predict score\n",
    "from keras.layers import Dense\n",
    "from keras.models import Sequential\n",
    "from keras.wrappers.scikit_learn import KerasClassifier\n",
    "import scipy\n",
    "from sklearn.model_selection import train_test_split"
   ]
  },
  {
   "cell_type": "code",
   "execution_count": 19,
   "id": "1fd83f1f",
   "metadata": {},
   "outputs": [],
   "source": [
    "# Select sample cretae train, test split\n",
    "\n",
    "X = universal_df['stemmed_string_review']\n",
    "y = universal_df['rating']\n",
    "X_train, X_val, y_train, y_val = train_test_split(X, y, test_size =0.5, random_state=11)"
   ]
  },
  {
   "cell_type": "code",
   "execution_count": 20,
   "id": "baffa1e6",
   "metadata": {},
   "outputs": [],
   "source": [
    "# Build Keras Classifier network\n",
    "N_FEATURES = 5000 # Set number of features\n",
    "N_CLASSES = 5 # Set number of classes\n",
    "\n",
    "def build_network():\n",
    "    # Compile a neural network\n",
    "    nn = Sequential()\n",
    "    nn.add(Dense(500, activation='relu', input_shape= (N_FEATURES,)))\n",
    "    nn.add(Dense(150, activation= 'relu'))\n",
    "    nn.add(Dense(N_CLASSES, activation= 'softmax'))\n",
    "    nn.compile(\n",
    "        loss= 'categorical_crossentropy',\n",
    "        optimizer='adam',\n",
    "        metrics=['accuracy']\n",
    "    )\n",
    "    return nn"
   ]
  },
  {
   "cell_type": "code",
   "execution_count": 21,
   "id": "8a9c2b96",
   "metadata": {},
   "outputs": [],
   "source": [
    "vectorizer = TfidfVectorizer( max_features= 5000) # Create vectorizer\n",
    "tfidf_train = vectorizer.fit_transform(X_train) # Return features and tfidf values for training set\n",
    "tfidf_train.sort_indices() # Sort by index (required by tensorflow)\n",
    "tfidf_val = vectorizer.transform(X_val)  # Return tfidf values for test set\n",
    "tfidf_val.sort_indices() # Sort by index (required by tensorflow)"
   ]
  },
  {
   "cell_type": "code",
   "execution_count": 22,
   "id": "f60ae223",
   "metadata": {},
   "outputs": [
    {
     "name": "stdout",
     "output_type": "stream",
     "text": [
      "Epoch 1/100\n"
     ]
    },
    {
     "name": "stderr",
     "output_type": "stream",
     "text": [
      "C:\\Users\\aarme\\anaconda3.2\\lib\\site-packages\\tensorflow\\python\\framework\\indexed_slices.py:447: UserWarning: Converting sparse IndexedSlices(IndexedSlices(indices=Tensor(\"gradient_tape/sequential/dense/embedding_lookup_sparse/Reshape_1:0\", shape=(None,), dtype=int32), values=Tensor(\"gradient_tape/sequential/dense/embedding_lookup_sparse/Reshape:0\", shape=(None, 500), dtype=float32), dense_shape=Tensor(\"gradient_tape/sequential/dense/embedding_lookup_sparse/Cast:0\", shape=(2,), dtype=int32))) to a dense Tensor of unknown shape. This may consume a large amount of memory.\n",
      "  warnings.warn(\n"
     ]
    },
    {
     "name": "stdout",
     "output_type": "stream",
     "text": [
      "199/199 [==============================] - 19s 42ms/step - loss: 1.1120 - accuracy: 0.5463\n",
      "Epoch 2/100\n",
      "199/199 [==============================] - 9s 44ms/step - loss: 0.7497 - accuracy: 0.6771\n",
      "Epoch 3/100\n",
      "199/199 [==============================] - 9s 44ms/step - loss: 0.5982 - accuracy: 0.7570\n",
      "Epoch 4/100\n",
      "199/199 [==============================] - 9s 44ms/step - loss: 0.3446 - accuracy: 0.8885\n",
      "Epoch 5/100\n",
      "199/199 [==============================] - 9s 44ms/step - loss: 0.1087 - accuracy: 0.9774\n",
      "Epoch 6/100\n",
      "199/199 [==============================] - 9s 44ms/step - loss: 0.0227 - accuracy: 0.9980\n",
      "Epoch 7/100\n",
      "199/199 [==============================] - 9s 44ms/step - loss: 0.0068 - accuracy: 1.0000\n",
      "Epoch 8/100\n",
      "199/199 [==============================] - 9s 45ms/step - loss: 0.0030 - accuracy: 1.0000\n",
      "Epoch 9/100\n",
      "199/199 [==============================] - 9s 44ms/step - loss: 0.0022 - accuracy: 0.9999\n",
      "Epoch 10/100\n",
      "199/199 [==============================] - 9s 45ms/step - loss: 0.0013 - accuracy: 1.0000\n",
      "Epoch 11/100\n",
      "199/199 [==============================] - 9s 45ms/step - loss: 8.7042e-04 - accuracy: 1.0000\n",
      "Epoch 12/100\n",
      "199/199 [==============================] - 9s 45ms/step - loss: 6.6875e-04 - accuracy: 1.0000\n",
      "Epoch 13/100\n",
      "199/199 [==============================] - 9s 46ms/step - loss: 6.0934e-04 - accuracy: 1.0000\n",
      "Epoch 14/100\n",
      "199/199 [==============================] - 10s 47ms/step - loss: 9.8268e-04 - accuracy: 0.9998\n",
      "Epoch 15/100\n",
      "199/199 [==============================] - 9s 46ms/step - loss: 5.1924e-04 - accuracy: 0.9999\n",
      "Epoch 16/100\n",
      "199/199 [==============================] - 9s 44ms/step - loss: 3.2873e-04 - accuracy: 1.0000\n",
      "Epoch 17/100\n",
      "199/199 [==============================] - 9s 45ms/step - loss: 2.4877e-04 - accuracy: 1.0000\n",
      "Epoch 18/100\n",
      "199/199 [==============================] - 9s 47ms/step - loss: 3.8272e-04 - accuracy: 0.9999\n",
      "Epoch 19/100\n",
      "199/199 [==============================] - 9s 46ms/step - loss: 1.7645e-04 - accuracy: 1.0000\n",
      "Epoch 20/100\n",
      "199/199 [==============================] - 9s 45ms/step - loss: 1.1547e-04 - accuracy: 1.0000\n",
      "Epoch 21/100\n",
      "199/199 [==============================] - 9s 44ms/step - loss: 1.1960e-04 - accuracy: 1.0000\n",
      "Epoch 22/100\n",
      "199/199 [==============================] - 9s 45ms/step - loss: 8.9688e-05 - accuracy: 1.0000\n",
      "Epoch 23/100\n",
      "199/199 [==============================] - 9s 44ms/step - loss: 7.9124e-05 - accuracy: 1.0000\n",
      "Epoch 24/100\n",
      "199/199 [==============================] - 9s 45ms/step - loss: 6.4163e-05 - accuracy: 1.0000\n",
      "Epoch 25/100\n",
      "199/199 [==============================] - 9s 44ms/step - loss: 5.8433e-05 - accuracy: 1.0000\n",
      "Epoch 26/100\n",
      "199/199 [==============================] - 9s 45ms/step - loss: 4.5528e-05 - accuracy: 1.0000\n",
      "Epoch 27/100\n",
      "199/199 [==============================] - 9s 45ms/step - loss: 4.0893e-05 - accuracy: 1.0000\n",
      "Epoch 28/100\n",
      "199/199 [==============================] - 9s 44ms/step - loss: 3.5642e-05 - accuracy: 1.0000\n",
      "Epoch 29/100\n",
      "199/199 [==============================] - 9s 45ms/step - loss: 3.0418e-05 - accuracy: 1.0000\n",
      "Epoch 30/100\n",
      "199/199 [==============================] - 9s 44ms/step - loss: 2.9681e-05 - accuracy: 1.0000\n",
      "Epoch 31/100\n",
      "199/199 [==============================] - 9s 45ms/step - loss: 2.3525e-05 - accuracy: 1.0000\n",
      "Epoch 32/100\n",
      "199/199 [==============================] - 9s 44ms/step - loss: 2.2829e-05 - accuracy: 1.0000\n",
      "Epoch 33/100\n",
      "199/199 [==============================] - 9s 46ms/step - loss: 1.7025e-05 - accuracy: 1.0000\n",
      "Epoch 34/100\n",
      "199/199 [==============================] - 9s 45ms/step - loss: 1.5336e-05 - accuracy: 1.0000\n",
      "Epoch 35/100\n",
      "199/199 [==============================] - 9s 45ms/step - loss: 1.4423e-05 - accuracy: 1.0000\n",
      "Epoch 36/100\n",
      "199/199 [==============================] - 9s 45ms/step - loss: 1.2044e-05 - accuracy: 1.0000\n",
      "Epoch 37/100\n",
      "199/199 [==============================] - 9s 44ms/step - loss: 1.1587e-05 - accuracy: 1.0000\n",
      "Epoch 38/100\n",
      "199/199 [==============================] - 9s 46ms/step - loss: 9.4285e-06 - accuracy: 1.0000 0s - loss: 9.3836e\n",
      "Epoch 39/100\n",
      "199/199 [==============================] - 9s 45ms/step - loss: 8.8621e-06 - accuracy: 1.0000\n",
      "Epoch 40/100\n",
      "199/199 [==============================] - 9s 45ms/step - loss: 7.9560e-06 - accuracy: 1.0000\n",
      "Epoch 41/100\n",
      "199/199 [==============================] - 9s 44ms/step - loss: 6.6189e-06 - accuracy: 1.0000\n",
      "Epoch 42/100\n",
      "199/199 [==============================] - 9s 45ms/step - loss: 6.0591e-06 - accuracy: 1.0000\n",
      "Epoch 43/100\n",
      "199/199 [==============================] - 9s 47ms/step - loss: 5.2144e-06 - accuracy: 1.0000\n",
      "Epoch 44/100\n",
      "199/199 [==============================] - 9s 45ms/step - loss: 5.1922e-06 - accuracy: 1.0000\n",
      "Epoch 45/100\n",
      "199/199 [==============================] - 9s 46ms/step - loss: 4.1249e-06 - accuracy: 1.0000\n",
      "Epoch 46/100\n",
      "199/199 [==============================] - 9s 45ms/step - loss: 3.7246e-06 - accuracy: 1.0000\n",
      "Epoch 47/100\n",
      "199/199 [==============================] - 9s 45ms/step - loss: 3.2864e-06 - accuracy: 1.0000\n",
      "Epoch 48/100\n",
      "199/199 [==============================] - 9s 44ms/step - loss: 3.4917e-06 - accuracy: 1.0000\n",
      "Epoch 49/100\n",
      "199/199 [==============================] - 9s 45ms/step - loss: 2.8438e-06 - accuracy: 1.0000\n",
      "Epoch 50/100\n",
      "199/199 [==============================] - 9s 45ms/step - loss: 2.3458e-06 - accuracy: 1.0000\n",
      "Epoch 51/100\n",
      "199/199 [==============================] - 9s 44ms/step - loss: 2.3329e-06 - accuracy: 1.0000\n",
      "Epoch 52/100\n",
      "199/199 [==============================] - 9s 45ms/step - loss: 1.9192e-06 - accuracy: 1.0000\n",
      "Epoch 53/100\n",
      "199/199 [==============================] - 9s 47ms/step - loss: 1.7701e-06 - accuracy: 1.0000\n",
      "Epoch 54/100\n",
      "199/199 [==============================] - 170s 858ms/step - loss: 1.5118e-06 - accuracy: 1.0000\n",
      "Epoch 55/100\n",
      "199/199 [==============================] - 9s 43ms/step - loss: 1.4432e-06 - accuracy: 1.0000\n",
      "Epoch 56/100\n",
      "199/199 [==============================] - 9s 43ms/step - loss: 1.3428e-06 - accuracy: 1.0000\n",
      "Epoch 57/100\n",
      "199/199 [==============================] - 8s 42ms/step - loss: 1.1181e-06 - accuracy: 1.0000\n",
      "Epoch 58/100\n",
      "199/199 [==============================] - 8s 42ms/step - loss: 1.0549e-06 - accuracy: 1.0000\n",
      "Epoch 59/100\n",
      "199/199 [==============================] - 9s 43ms/step - loss: 9.1053e-07 - accuracy: 1.0000\n",
      "Epoch 60/100\n",
      "199/199 [==============================] - 10s 48ms/step - loss: 8.0291e-07 - accuracy: 1.0000\n",
      "Epoch 61/100\n",
      "199/199 [==============================] - 9s 46ms/step - loss: 8.9757e-07 - accuracy: 1.0000\n",
      "Epoch 62/100\n",
      "199/199 [==============================] - 9s 44ms/step - loss: 6.5263e-07 - accuracy: 1.0000\n",
      "Epoch 63/100\n",
      "199/199 [==============================] - 9s 46ms/step - loss: 6.4785e-07 - accuracy: 1.0000\n",
      "Epoch 64/100\n",
      "199/199 [==============================] - 9s 44ms/step - loss: 6.0390e-07 - accuracy: 1.0000\n",
      "Epoch 65/100\n",
      "199/199 [==============================] - 9s 45ms/step - loss: 4.8502e-07 - accuracy: 1.0000\n",
      "Epoch 66/100\n",
      "199/199 [==============================] - 9s 45ms/step - loss: 4.6535e-07 - accuracy: 1.0000\n",
      "Epoch 67/100\n",
      "199/199 [==============================] - 9s 46ms/step - loss: 3.9841e-07 - accuracy: 1.0000\n",
      "Epoch 68/100\n",
      "199/199 [==============================] - 10s 48ms/step - loss: 3.6872e-07 - accuracy: 1.0000\n",
      "Epoch 69/100\n",
      "199/199 [==============================] - 9s 46ms/step - loss: 3.2787e-07 - accuracy: 1.0000\n",
      "Epoch 70/100\n",
      "199/199 [==============================] - 9s 45ms/step - loss: 3.1465e-07 - accuracy: 1.0000\n",
      "Epoch 71/100\n",
      "199/199 [==============================] - 9s 46ms/step - loss: 2.7857e-07 - accuracy: 1.0000\n",
      "Epoch 72/100\n",
      "199/199 [==============================] - 9s 46ms/step - loss: 2.5045e-07 - accuracy: 1.0000\n",
      "Epoch 73/100\n",
      "199/199 [==============================] - 9s 45ms/step - loss: 2.4178e-07 - accuracy: 1.0000\n",
      "Epoch 74/100\n",
      "199/199 [==============================] - 9s 45ms/step - loss: 2.1785e-07 - accuracy: 1.0000\n",
      "Epoch 75/100\n",
      "199/199 [==============================] - 9s 45ms/step - loss: 1.8330e-07 - accuracy: 1.0000\n",
      "Epoch 76/100\n",
      "199/199 [==============================] - 9s 44ms/step - loss: 1.7633e-07 - accuracy: 1.0000\n",
      "Epoch 77/100\n",
      "199/199 [==============================] - 9s 45ms/step - loss: 1.5842e-07 - accuracy: 1.0000\n",
      "Epoch 78/100\n",
      "199/199 [==============================] - 9s 44ms/step - loss: 1.4264e-07 - accuracy: 1.0000\n",
      "Epoch 79/100\n",
      "199/199 [==============================] - 9s 44ms/step - loss: 1.2907e-07 - accuracy: 1.0000\n",
      "Epoch 80/100\n",
      "199/199 [==============================] - 9s 44ms/step - loss: 1.2063e-07 - accuracy: 1.0000\n",
      "Epoch 81/100\n",
      "199/199 [==============================] - 9s 45ms/step - loss: 1.0962e-07 - accuracy: 1.0000\n",
      "Epoch 82/100\n",
      "199/199 [==============================] - 9s 45ms/step - loss: 1.0094e-07 - accuracy: 1.0000\n",
      "Epoch 83/100\n",
      "199/199 [==============================] - 9s 44ms/step - loss: 9.0134e-08 - accuracy: 1.0000\n",
      "Epoch 84/100\n",
      "199/199 [==============================] - 9s 45ms/step - loss: 8.4597e-08 - accuracy: 1.0000\n",
      "Epoch 85/100\n",
      "199/199 [==============================] - 9s 45ms/step - loss: 7.7760e-08 - accuracy: 1.0000 1s - loss: 7\n",
      "Epoch 86/100\n",
      "199/199 [==============================] - 9s 45ms/step - loss: 6.8478e-08 - accuracy: 1.0000\n",
      "Epoch 87/100\n",
      "199/199 [==============================] - 9s 44ms/step - loss: 6.2096e-08 - accuracy: 1.0000\n",
      "Epoch 88/100\n",
      "199/199 [==============================] - 9s 45ms/step - loss: 5.5773e-08 - accuracy: 1.0000\n",
      "Epoch 89/100\n",
      "199/199 [==============================] - 9s 44ms/step - loss: 5.0673e-08 - accuracy: 1.0000\n",
      "Epoch 90/100\n",
      "199/199 [==============================] - 9s 44ms/step - loss: 4.7498e-08 - accuracy: 1.0000\n",
      "Epoch 91/100\n",
      "199/199 [==============================] - 9s 45ms/step - loss: 4.3284e-08 - accuracy: 1.0000\n",
      "Epoch 92/100\n",
      "199/199 [==============================] - 9s 44ms/step - loss: 4.0624e-08 - accuracy: 1.0000\n",
      "Epoch 93/100\n",
      "199/199 [==============================] - 9s 45ms/step - loss: 3.8452e-08 - accuracy: 1.0000\n",
      "Epoch 94/100\n",
      "199/199 [==============================] - 9s 44ms/step - loss: 3.4420e-08 - accuracy: 1.0000\n",
      "Epoch 95/100\n",
      "199/199 [==============================] - 9s 44ms/step - loss: 2.9555e-08 - accuracy: 1.0000\n",
      "Epoch 96/100\n",
      "199/199 [==============================] - 9s 47ms/step - loss: 2.6620e-08 - accuracy: 1.0000\n",
      "Epoch 97/100\n",
      "199/199 [==============================] - 9s 45ms/step - loss: 2.4042e-08 - accuracy: 1.0000\n",
      "Epoch 98/100\n",
      "199/199 [==============================] - 9s 44ms/step - loss: 2.1953e-08 - accuracy: 1.0000\n",
      "Epoch 99/100\n",
      "199/199 [==============================] - 9s 44ms/step - loss: 2.0619e-08 - accuracy: 1.0000\n",
      "Epoch 100/100\n",
      "199/199 [==============================] - 9s 45ms/step - loss: 1.7322e-08 - accuracy: 1.0000\n"
     ]
    },
    {
     "name": "stderr",
     "output_type": "stream",
     "text": [
      "C:\\Users\\aarme\\anaconda3.2\\lib\\site-packages\\keras\\engine\\sequential.py:450: UserWarning: `model.predict_classes()` is deprecated and will be removed after 2021-01-01. Please use instead:* `np.argmax(model.predict(x), axis=-1)`,   if your model does multi-class classification   (e.g. if it uses a `softmax` last-layer activation).* `(model.predict(x) > 0.5).astype(\"int32\")`,   if your model does binary classification   (e.g. if it uses a `sigmoid` last-layer activation).\n",
      "  warnings.warn('`model.predict_classes()` is deprecated and '\n"
     ]
    },
    {
     "name": "stdout",
     "output_type": "stream",
     "text": [
      "199/199 [==============================] - 2s 8ms/step\n"
     ]
    },
    {
     "data": {
      "text/plain": [
       "array([[  424,   160,   206,    80,   135],\n",
       "       [  247,   174,   325,   140,   125],\n",
       "       [  177,   232,   792,   704,   635],\n",
       "       [  103,   139,   813,  2117,  3506],\n",
       "       [   63,    79,   485,  2533, 11029]], dtype=int64)"
      ]
     },
     "execution_count": 22,
     "metadata": {},
     "output_type": "execute_result"
    }
   ],
   "source": [
    "# Create model\n",
    "dnn =  KerasClassifier(build_fn= build_network,\n",
    "                        epochs= 100,\n",
    "                        batch_size=128,\n",
    "                      verbose=True)\n",
    "train_k = dnn.fit(tfidf_train, y_train) # Train model\n",
    "\n",
    "confusion_matrix(y_val, dnn.predict(tfidf_val)) # Return confusion matrix of test set"
   ]
  },
  {
   "cell_type": "code",
   "execution_count": 23,
   "id": "bba22a25",
   "metadata": {},
   "outputs": [
    {
     "name": "stdout",
     "output_type": "stream",
     "text": [
      "  8/199 [>.............................] - ETA: 1s"
     ]
    },
    {
     "name": "stderr",
     "output_type": "stream",
     "text": [
      "C:\\Users\\aarme\\anaconda3.2\\lib\\site-packages\\keras\\engine\\sequential.py:450: UserWarning: `model.predict_classes()` is deprecated and will be removed after 2021-01-01. Please use instead:* `np.argmax(model.predict(x), axis=-1)`,   if your model does multi-class classification   (e.g. if it uses a `softmax` last-layer activation).* `(model.predict(x) > 0.5).astype(\"int32\")`,   if your model does binary classification   (e.g. if it uses a `sigmoid` last-layer activation).\n",
      "  warnings.warn('`model.predict_classes()` is deprecated and '\n"
     ]
    },
    {
     "name": "stdout",
     "output_type": "stream",
     "text": [
      "199/199 [==============================] - 2s 8ms/step\n",
      "Accuracy:  0.5717657239507532\n",
      "Precision: [0.41814596 0.22193878 0.30217474 0.37979907 0.71477641]\n",
      "Recall:    [0.42189055 0.17210682 0.31181102 0.31701108 0.77729227]\n",
      "F1 score:  [0.42000991 0.19387187 0.30691726 0.34557623 0.74472467]\n"
     ]
    },
    {
     "data": {
      "image/png": "[encoded data removed]",
      "text/plain": [
       "<Figure size 720x576 with 2 Axes>"
      ]
     },
     "metadata": {
      "needs_background": "light"
     },
     "output_type": "display_data"
    }
   ],
   "source": [
    "pred_test = dnn.predict(tfidf_val) # Apply model to test data\n",
    "accuracy = accuracy_score(y_val, pred_test) # Get accuracy of model\n",
    "score_list = precision_recall_fscore_support(y_val, pred_test) # Get precision, recall, and f1 scores\n",
    "print('Accuracy: ',accuracy)\n",
    "print('Precision:', score_list[0])\n",
    "print('Recall:   ', score_list[1])\n",
    "print('F1 score: ', score_list[2])\n",
    "# Create confusion matrix for test results\n",
    "mat = ConfusionMatrixDisplay(confusion_matrix(y_val, pred_test),\n",
    "                            display_labels=['1','2','3','4','5'])\n",
    "fig, ax = plt.subplots(figsize=(10,8))\n",
    "mat.plot(ax=ax);"
   ]
  },
  {
   "cell_type": "code",
   "execution_count": 77,
   "id": "5a1261d9",
   "metadata": {},
   "outputs": [
    {
     "name": "stdout",
     "output_type": "stream",
     "text": [
      "Count of tokens\n"
     ]
    },
    {
     "data": {
      "image/png": "[encoded data removed]",
      "text/plain": [
       "<Figure size 900x600 with 1 Axes>"
      ]
     },
     "metadata": {},
     "output_type": "display_data"
    }
   ],
   "source": [
    "# Plot top 50 word tokens\n",
    "vectorizer = CountVectorizer()\n",
    "docs = vectorizer.fit_transform(universal_df['stemmed_string_review'])\n",
    "features = vectorizer.get_feature_names()\n",
    "print('Count of tokens')\n",
    "visualizer = FreqDistVisualizer(features=features, size=(900, 600))\n",
    "visualizer.fit(docs)\n",
    "visualizer.poof();"
   ]
  },
  {
   "cell_type": "code",
   "execution_count": 78,
   "id": "b1939f34",
   "metadata": {},
   "outputs": [
    {
     "name": "stdout",
     "output_type": "stream",
     "text": [
      "tfidf values\n"
     ]
    },
    {
     "data": {
      "image/png": "[encoded data removed]",
      "text/plain": [
       "<Figure size 900x600 with 1 Axes>"
      ]
     },
     "metadata": {},
     "output_type": "display_data"
    }
   ],
   "source": [
    "# Show to 50 words by tfidf scores\n",
    "vectorizer = TfidfVectorizer()\n",
    "docs = vectorizer.fit_transform(universal_df['stemmed_string_review'])\n",
    "features = vectorizer.get_feature_names()\n",
    "print('tfidf values')\n",
    "visualizer = FreqDistVisualizer(features=features, size=(900, 600))\n",
    "visualizer.fit(docs)\n",
    "visualizer.poof();\n",
    "\n"
   ]
  },
  {
   "cell_type": "code",
   "execution_count": 79,
   "id": "b1cc9c85",
   "metadata": {},
   "outputs": [
    {
     "name": "stdout",
     "output_type": "stream",
     "text": [
      "Count of tokens\n"
     ]
    },
    {
     "data": {
      "image/png": "[encoded data removed]",
      "text/plain": [
       "<Figure size 900x600 with 1 Axes>"
      ]
     },
     "metadata": {},
     "output_type": "display_data"
    }
   ],
   "source": [
    "# Top 50 words  for reviews with a 1 rating\n",
    "vectorizer = CountVectorizer()\n",
    "docs = vectorizer.fit_transform(universal_df[universal_df['rating']==1]['stemmed_string_review'])\n",
    "features = vectorizer.get_feature_names()\n",
    "print('Count of tokens')\n",
    "visualizer = FreqDistVisualizer(features=features, size=(900, 600))\n",
    "visualizer.fit(docs)\n",
    "visualizer.poof();"
   ]
  },
  {
   "cell_type": "code",
   "execution_count": 111,
   "id": "d9945c74",
   "metadata": {},
   "outputs": [],
   "source": [
    "# Create a dictionary of words with their tfidf scores \n",
    "vectorizer = TfidfVectorizer() # Create vectorizer\n",
    "tfidf = vectorizer.fit_transform(universal_df['stemmed_string_review']) # Aplly vectorizer and get score\n",
    "feature_names = vectorizer.get_feature_names() # Get words fro vectorizer\n",
    "# Add words and score to dictionary\n",
    "dic = {}\n",
    "for col in tfidf.nonzero()[1]:\n",
    "    dic[feature_names[col]] = tfidf[0, col]\n",
    "    "
   ]
  },
  {
   "cell_type": "code",
   "execution_count": 113,
   "id": "b5de1f91",
   "metadata": {},
   "outputs": [
    {
     "name": "stdout",
     "output_type": "stream",
     "text": [
      "['guest', 'servic', 'sneak', 'express', 'sent', 'line', 'jacki', 'smirk', 'wreck', 'pass', 'paid', 'forti', 'total', 'understaf', 'hour', 'sucker', 'work', 'took', 'convinc', 'bc', 'pay', 'apolog', 'patron', 'code', 'reopen', 'suck', 'prime', 'forev', 'park', 'still', 'worker', 'restroom', 'clearli', 'peopl', 'horribl', 'share', 'lane', 'also', 'memori', 'bar', 'nearli', 'disast', 'jump', 'long', 'app', 'yet', 'butter', 'happen', 'point', 'turn']\n"
     ]
    }
   ],
   "source": [
    "# Get top 50 words\n",
    "print(sorted(dic, key=dic.get, reverse= True)[:50])"
   ]
  },
  {
   "cell_type": "code",
   "execution_count": 116,
   "id": "28842672",
   "metadata": {},
   "outputs": [
    {
     "name": "stdout",
     "output_type": "stream",
     "text": [
      "['regist', 'cashier', 'food', 'cash', 'minimum', 'ruin', 'horribl', 'review', 'whole', 'work', 'close', 'servic', 'place', 'experi', 'minut', 'one', 'get', 'wait', 'time', 'vacat', 'uncar', 'disrespect', 'rude', 'manag', 'camp', 'bubba', 'especi', 'restor', 'disrispectful', 'super', 'staff', 'long', 'there', 'go', 'vomit', 'like', 'smell', 'outdat', 'ride', 'ever', 'worst', 'less', 'great', 'capac', 'take', 'id', 'wont', 'guest', 'care', 'clearli']\n"
     ]
    }
   ],
   "source": [
    "# Create a dictionary of words with their tfidf scores for ratings ==1 \n",
    "tfidf = vectorizer.fit_transform(universal_df[universal_df['rating']==1]['stemmed_string_review'])\n",
    "feature_names = vectorizer.get_feature_names()\n",
    "dic = {}\n",
    "for col in tfidf.nonzero()[1]:\n",
    "    dic[feature_names[col]] = tfidf[0, col]\n",
    "\n",
    "print(sorted(dic, key=dic.get, reverse= True)[:50])"
   ]
  },
  {
   "cell_type": "code",
   "execution_count": 117,
   "id": "e6b4c5f6",
   "metadata": {},
   "outputs": [
    {
     "name": "stdout",
     "output_type": "stream",
     "text": [
      "['sneak', 'guest', 'express', 'servic', 'sent', 'line', 'smirk', 'wreck', 'pass', 'jacki', 'forti', 'total', 'sucker', 'took', 'understaf', 'work', 'prime', 'bc', 'code', 'paid', 'hour', 'convinc', 'still', 'reopen', 'patron', 'apolog', 'share', 'park', 'bar', 'pay', 'restroom', 'lane', 'memori', 'forev', 'worker', 'also', 'suck', 'butter', 'app', 'clearli', 'disast', 'beer', 'jump', 'horribl', 'long', 'weekend', 'nearli', 'peopl', 'yet', 'avoid']\n"
     ]
    }
   ],
   "source": [
    "# Create a dictionary of words with their tfidf scores for ratings == 2\n",
    "tfidf = vectorizer.fit_transform(universal_df[universal_df['rating']==2]['stemmed_string_review'])\n",
    "feature_names = vectorizer.get_feature_names()\n",
    "dic = {}\n",
    "for col in tfidf.nonzero()[1]:\n",
    "    dic[feature_names[col]] = tfidf[0, col]\n",
    "\n",
    "print(sorted(dic, key=dic.get, reverse= True)[:50])"
   ]
  },
  {
   "cell_type": "code",
   "execution_count": 118,
   "id": "ea6c4757",
   "metadata": {},
   "outputs": [
    {
     "name": "stdout",
     "output_type": "stream",
     "text": [
      "['stink', 'sole', 'earli', 'connect', 'ripoff', 'specif', 'biggest', 'wizard', 'resort', 'twice', 'ever', 'gate', 'custom', 'couldnt', 'simul', 'go', 'servic', 'stay', 'overal', 'though', 'open', 'love', 'pay', 'two', 'world', 'park', 'could', 'theme', 'mani', 'fun', 'even', 'get', 'univers', 'ride', 'may', 'summertim', 'move', 'keep', 'thing', 'easier', 'much', 'would', 'app', 'access', 'made', 'ton', 'unorgan', 'conveni', 'extrem', 'everyth']\n"
     ]
    }
   ],
   "source": [
    "# Create a dictionary of words with their tfidf scores for ratings == 3\n",
    "tfidf = vectorizer.fit_transform(universal_df[universal_df['rating']==3]['stemmed_string_review'])\n",
    "feature_names = vectorizer.get_feature_names()\n",
    "dic = {}\n",
    "for col in tfidf.nonzero()[1]:\n",
    "    dic[feature_names[col]] = tfidf[0, col]\n",
    "\n",
    "print(sorted(dic, key=dic.get, reverse= True)[:50])"
   ]
  },
  {
   "cell_type": "code",
   "execution_count": 119,
   "id": "ae750492",
   "metadata": {},
   "outputs": [
    {
     "name": "stdout",
     "output_type": "stream",
     "text": [
      "['seat', 'rectifi', 'green', 'test', 'situat', 'oper', 'turn', 'light', 'group', 'cant', 'away', 'get', 'give', 'actual', 'person', 'say', 'tri', 'ride', 'long', 'express', 'line', 'pass', 'go', 'cost', 'extra', 'potter', 'harri', 'purchas', 'benefit', 'realli', 'perspect', 'quantiti', 'qualiti', 'staf', 'citywalk', 'accept', 'wasnt', 'sketchi', 'pay', 'save', 'doesnt', 'easi', 'vehicl', 'climb', 'final', 'later', 'nearli', 'continu', 'said', 'shrek']\n"
     ]
    }
   ],
   "source": [
    "# Create a dictionary of words with their tfidf scores for ratings == 4\n",
    "tfidf = vectorizer.fit_transform(universal_df[universal_df['rating']==4]['stemmed_string_review'])\n",
    "feature_names = vectorizer.get_feature_names()\n",
    "dic = {}\n",
    "for col in tfidf.nonzero()[1]:\n",
    "    dic[feature_names[col]] = tfidf[0, col]\n",
    "\n",
    "print(sorted(dic, key=dic.get, reverse= True)[:50])"
   ]
  },
  {
   "cell_type": "code",
   "execution_count": 120,
   "id": "c5fe90c7",
   "metadata": {},
   "outputs": [
    {
     "name": "stdout",
     "output_type": "stream",
     "text": [
      "['bourn', 'stuntaculari', 'xs', 'jason', 'enough', 'stress', 'knew', 'wrong', 'worth', 'anyon', 'ok', 'noth', 'pack', 'wasnt', 'entir', 'cost', 'go', 'watch', 'absolut', 'cant', 'think', 'never', 'time', 'everyon', 'trip', 'movi', 'miss', 'orlando', 'sure', 'awesom', 'buy', 'everi', 'make', 'dont', 'take', 'see', 'would', 'went', 'amaz', 'wait', 'studio', 'pass', 'univers', 'expect', 'long', 'bit', 'enjoy', 'crowd', 'clean', 'impress']\n"
     ]
    }
   ],
   "source": [
    "# Create a dictionary of words with their tfidf scores for ratings = 5\n",
    "tfidf = vectorizer.fit_transform(universal_df[universal_df['rating']==5]['stemmed_string_review'])\n",
    "feature_names = vectorizer.get_feature_names()\n",
    "dic = {}\n",
    "for col in tfidf.nonzero()[1]:\n",
    "    dic[feature_names[col]] = tfidf[0, col]\n",
    "\n",
    "print(sorted(dic, key=dic.get, reverse= True)[:50])"
   ]
  },
  {
   "cell_type": "code",
   "execution_count": 121,
   "id": "343dfa24",
   "metadata": {},
   "outputs": [
    {
     "name": "stdout",
     "output_type": "stream",
     "text": [
      "['express', 'line', 'park', 'pass', 'guest', 'servic', 'hour', 'day', 'total', 'wait', 'get', 'paid', 'sent', 'took', 'also', 'ride', 'work', 'still', 'peopl', 'sneak', 'pay', 'long', 'went', 'univers', 'memori', 'weekend', 'train', 'wreck', 'lot', 'forti', 'minut', 'prime', 'make', 'wast', 'time', 'extra', 'ticket', 'turn', 'away', 'bc', 'app', 'show', 'bar', 'code', 'forev', 'clearli', 'understaf', 'yet', 'anoth', 'age']\n"
     ]
    }
   ],
   "source": [
    "# Create a dictionary of words with their frequency \n",
    "word_vect = CountVectorizer()\n",
    "word_count = word_vect.fit_transform(universal_df['stemmed_string_review'])\n",
    "feature_names = word_vect.get_feature_names()\n",
    "dic = {}\n",
    "for col in word_count.nonzero()[1]:\n",
    "    dic[feature_names[col]] = word_count[0, col]\n",
    "\n",
    "print(sorted(dic, key=dic.get, reverse= True)[:50])"
   ]
  },
  {
   "cell_type": "code",
   "execution_count": 122,
   "id": "f319eafa",
   "metadata": {},
   "outputs": [
    {
     "name": "stdout",
     "output_type": "stream",
     "text": [
      "['food', 'servic', 'horribl', 'review', 'wait', 'time', 'minut', 'minimum', 'get', 'one', 'cashier', 'work', 'place', 'ruin', 'whole', 'experi', 'close', 'cash', 'regist', 'worst', 'ever', 'ride', 'outdat', 'smell', 'like', 'vomit', 'go', 'there', 'long', 'staff', 'super', 'disrispectful', 'restor', 'especi', 'bubba', 'camp', 'manag', 'rude', 'disrespect', 'uncar', 'vacat', 'univers', 'thing', 'disney', 'everyth', 'well', 'due', 'poorli', 'arriv', 'open']\n"
     ]
    }
   ],
   "source": [
    "# Create a dictionary of words with their frequency for ratings ==1 \n",
    "word_count = word_vect.fit_transform(universal_df[universal_df['rating']==1]['stemmed_string_review'])\n",
    "feature_names = word_vect.get_feature_names()\n",
    "dic = {}\n",
    "for col in word_count.nonzero()[1]:\n",
    "    dic[feature_names[col]] = word_count[0, col]\n",
    "\n",
    "print(sorted(dic, key=dic.get, reverse= True)[:50])\n"
   ]
  },
  {
   "cell_type": "code",
   "execution_count": 123,
   "id": "1c1f02b2",
   "metadata": {},
   "outputs": [
    {
     "name": "stdout",
     "output_type": "stream",
     "text": [
      "['express', 'line', 'park', 'pass', 'guest', 'servic', 'hour', 'day', 'total', 'wait', 'get', 'paid', 'sent', 'took', 'also', 'ride', 'work', 'still', 'peopl', 'sneak', 'pay', 'long', 'went', 'univers', 'memori', 'weekend', 'train', 'wreck', 'lot', 'forti', 'minut', 'prime', 'make', 'wast', 'time', 'extra', 'ticket', 'turn', 'away', 'bc', 'app', 'show', 'bar', 'code', 'forev', 'clearli', 'understaf', 'yet', 'anoth', 'age']\n"
     ]
    }
   ],
   "source": [
    "# Create a dictionary of words with their frequency for ratings = 2\n",
    "word_count = word_vect.fit_transform(universal_df[universal_df['rating']==2]['stemmed_string_review'])\n",
    "feature_names = word_vect.get_feature_names()\n",
    "dic = {}\n",
    "for col in word_count.nonzero()[1]:\n",
    "    dic[feature_names[col]] = word_count[0, col]\n",
    "\n",
    "print(sorted(dic, key=dic.get, reverse= True)[:50])\n"
   ]
  },
  {
   "cell_type": "code",
   "execution_count": 124,
   "id": "9ba9d832",
   "metadata": {},
   "outputs": [
    {
     "name": "stdout",
     "output_type": "stream",
     "text": [
      "['earli', 'go', 'park', 'mani', 'fun', 'simul', 'ride', 'love', 'wizard', 'world', 'overal', 'custom', 'servic', 'stink', 'specif', 'couldnt', 'get', 'gate', 'open', 'even', 'though', 'stay', 'univers', 'resort', 'sole', 'could', 'pay', 'twice', 'two', 'connect', 'biggest', 'theme', 'ripoff', 'ever', 'first', 'inform', 'given', 'guest', 'phone', 'inaccur', 'dine', 'plan', 'good', 'within', 'accord', 'staff', 'member', 'refil', 'cup', 'well']\n"
     ]
    }
   ],
   "source": [
    "word_count = word_vect.fit_transform(universal_df[universal_df['rating']==3]['stemmed_string_review'])\n",
    "feature_names = word_vect.get_feature_names()\n",
    "dic = {}\n",
    "for col in word_count.nonzero()[1]:\n",
    "    dic[feature_names[col]] = word_count[0, col]\n",
    "\n",
    "print(sorted(dic, key=dic.get, reverse= True)[:50])\n"
   ]
  },
  {
   "cell_type": "code",
   "execution_count": 125,
   "id": "70e896f3",
   "metadata": {},
   "outputs": [
    {
     "name": "stdout",
     "output_type": "stream",
     "text": [
      "['seat', 'ride', 'get', 'person', 'tri', 'test', 'green', 'light', 'go', 'long', 'line', 'turn', 'away', 'oper', 'say', 'cant', 'actual', 'give', 'express', 'pass', 'group', 'rectifi', 'situat', 'spent', 'night', 'site', 'sapphir', 'fall', 'famili', 'adult', 'kid', 'age', 'day', 'park', 'hopper', 'want', 'arent', 'four', 'dont', 'know', 'would', 'experi', 'without', 'earli', 'admiss', 'didnt', 'much', 'univers', 'studio', 'offer']\n"
     ]
    }
   ],
   "source": [
    "word_count = word_vect.fit_transform(universal_df[universal_df['rating']==4]['stemmed_string_review'])\n",
    "feature_names = word_vect.get_feature_names()\n",
    "dic = {}\n",
    "for col in word_count.nonzero()[1]:\n",
    "    dic[feature_names[col]] = word_count[0, col]\n",
    "\n",
    "print(sorted(dic, key=dic.get, reverse= True)[:50])\n"
   ]
  },
  {
   "cell_type": "code",
   "execution_count": 126,
   "id": "9e732868",
   "metadata": {},
   "outputs": [
    {
     "name": "stdout",
     "output_type": "stream",
     "text": [
      "['enough', 'go', 'time', 'bourn', 'worth', 'ok', 'cant', 'stress', 'anyon', 'everyon', 'univers', 'studio', 'orlando', 'make', 'sure', 'take', 'see', 'stuntaculari', 'watch', 'xs', 'wasnt', 'never', 'knew', 'jason', 'buy', 'movi', 'absolut', 'awesom', 'amaz', 'entir', 'cost', 'trip', 'wait', 'everi', 'went', 'pack', 'would', 'pass', 'think', 'noth', 'wrong', 'dont', 'miss', 'adventur', 'park', 'best', 'two', 'impress', 'clean', 'crowd']\n"
     ]
    }
   ],
   "source": [
    "# Create a dictionary of words with their frequency for ratings = 5\n",
    "word_count = word_vect.fit_transform(universal_df[universal_df['rating']==5]['stemmed_string_review'])\n",
    "feature_names = word_vect.get_feature_names()\n",
    "dic = {}\n",
    "for col in word_count.nonzero()[1]:\n",
    "    dic[feature_names[col]] = word_count[0, col]\n",
    "\n",
    "print(sorted(dic, key=dic.get, reverse= True)[:50])\n"
   ]
  },
  {
   "cell_type": "code",
   "execution_count": 128,
   "id": "f2bb93de",
   "metadata": {},
   "outputs": [
    {
     "name": "stdout",
     "output_type": "stream",
     "text": [
      "['express', 'line', 'park', 'pass', 'guest', 'servic', 'hour', 'day', 'total', 'wait', 'get', 'paid', 'sent', 'took', 'also', 'ride', 'work', 'still', 'peopl', 'sneak', 'pay', 'long', 'went', 'univers', 'memori', 'weekend', 'train', 'wreck', 'lot', 'forti', 'minut', 'prime', 'make', 'wast', 'time', 'extra', 'ticket', 'turn', 'away', 'bc', 'app', 'show', 'bar', 'code', 'forev', 'clearli', 'understaf', 'yet', 'anoth', 'age']\n"
     ]
    }
   ],
   "source": [
    "# Create a dictionary of words with their frequency for Florida branch\n",
    "word_count = word_vect.fit_transform(universal_df[universal_df['branch']=='Universal Studios Florida']['stemmed_string_review'])\n",
    "feature_names = word_vect.get_feature_names()\n",
    "dic = {}\n",
    "for col in word_count.nonzero()[1]:\n",
    "    dic[feature_names[col]] = word_count[0, col]\n",
    "\n",
    "print(sorted(dic, key=dic.get, reverse= True)[:50])\n"
   ]
  },
  {
   "cell_type": "code",
   "execution_count": 129,
   "id": "f7635630",
   "metadata": {},
   "outputs": [
    {
     "name": "stdout",
     "output_type": "stream",
     "text": [
      "['place', 'awesom', 'ride', 'intrigu', 'fill', 'thrill', 'adventur', 'even', 'small', 'show', 'fantast', 'excel', 'plan', 'go', 'vacat', 'famili', 'friend', 'want', 'make', 'trip', 'excit', 'spontan', 'lot', 'activ', 'univers', 'studio', 'singapor', 'open', 'part', 'resort', 'world', 'sentosa', 'complex', 'island', 'love', 'theme', 'zone', 'attract', 'shop', 'eat', 'establish', 'street', 'entertain', 'perform', 'live', 'movi', 'charact', 'avail', 'park', 'favorit']\n"
     ]
    }
   ],
   "source": [
    "# Create a dictionary of words with their frequency for Singapore branch\n",
    "word_count = word_vect.fit_transform(universal_df[universal_df['branch']=='Universal Studios Singapore']['stemmed_string_review'])\n",
    "feature_names = word_vect.get_feature_names()\n",
    "dic = {}\n",
    "for col in word_count.nonzero()[1]:\n",
    "    dic[feature_names[col]] = word_count[0, col]\n",
    "\n",
    "print(sorted(dic, key=dic.get, reverse= True)[:50])\n"
   ]
  },
  {
   "cell_type": "code",
   "execution_count": 130,
   "id": "4d6e3d13",
   "metadata": {},
   "outputs": [
    {
     "name": "stdout",
     "output_type": "stream",
     "text": [
      "['japan', 'architectur', 'tokyo', 'bring', '日本是一個藝術的國家之一', '東京到大阪建築文物帶出了日本的風格寺廟方面較為熱門重點壯觀美麗外表', '奪目金色還有不同寺廟也帶出各有特色城市建築較為規律也帶出繁華日本另一面', '東京日本各有特色美食非常吸引難忘的回憶個人意見提供參考starchan', 'one', 'countri', 'art', 'relic', 'osaka', 'japanes', 'style', 'local', 'aspect', 'focus', 'beauti', 'appear', 'dazzl', 'gold', 'differ', 'also', 'distinct', 'urban', 'regular', 'prosper', 'side', 'uniqu', 'cuisin', 'attract', 'unforgett', 'memori', 'person', 'opinion', 'provid', 'refer', 'starchan', 'expens', 'noth', 'special', 'throw', 'rubbish', 'bentou', 'buy', 'food', 'park', 'crazi', 'love']\n"
     ]
    }
   ],
   "source": [
    "# Create a dictionary of words with their frequency for Japan branch\n",
    "word_count = word_vect.fit_transform(universal_df[universal_df['branch']=='Universal Studios Japan']['stemmed_string_review'])\n",
    "feature_names = word_vect.get_feature_names()\n",
    "dic = {}\n",
    "for col in word_count.nonzero()[1]:\n",
    "    dic[feature_names[col]] = word_count[0, col]\n",
    "\n",
    "print(sorted(dic, key=dic.get, reverse= True)[:50])\n"
   ]
  },
  {
   "cell_type": "code",
   "execution_count": 134,
   "id": "eb1f61f2",
   "metadata": {},
   "outputs": [
    {
     "name": "stdout",
     "output_type": "stream",
     "text": [
      "['express', 'line', 'park', 'pass', 'guest', 'servic', 'hour', 'day', 'total', 'wait', 'get', 'paid', 'sent', 'took', 'also', 'ride', 'work', 'still', 'peopl', 'sneak', 'pay', 'long', 'went', 'univers', 'memori', 'weekend', 'train', 'wreck', 'lot', 'forti', 'minut', 'prime', 'make', 'wast', 'time', 'extra', 'ticket', 'turn', 'away', 'bc', 'app', 'show', 'bar', 'code', 'forev', 'clearli', 'understaf', 'yet', 'anoth', 'age']\n"
     ]
    }
   ],
   "source": [
    "# Create a dictionary of words with their frequency for Florida branch with low rating\n",
    "word_count = word_vect.fit_transform(universal_df[(universal_df['branch']=='Universal Studios Florida') & (universal_df['rating']<=2)]['stemmed_string_review'])\n",
    "feature_names = word_vect.get_feature_names()\n",
    "dic = {}\n",
    "for col in word_count.nonzero()[1]:\n",
    "    dic[feature_names[col]] = word_count[0, col]\n",
    "\n",
    "print(sorted(dic, key=dic.get, reverse= True)[:50])\n"
   ]
  },
  {
   "cell_type": "code",
   "execution_count": 138,
   "id": "c364607d",
   "metadata": {},
   "outputs": [
    {
     "name": "stdout",
     "output_type": "stream",
     "text": [
      "['earli', 'go', 'park', 'mani', 'fun', 'simul', 'ride', 'love', 'wizard', 'world', 'overal', 'custom', 'servic', 'stink', 'specif', 'couldnt', 'get', 'gate', 'open', 'even', 'though', 'stay', 'univers', 'resort', 'sole', 'could', 'pay', 'twice', 'two', 'connect', 'biggest', 'theme', 'ripoff', 'ever', 'first', 'inform', 'given', 'guest', 'phone', 'inaccur', 'dine', 'plan', 'good', 'within', 'accord', 'staff', 'member', 'refil', 'cup', 'well']\n"
     ]
    }
   ],
   "source": [
    "# Create a dictionary of words with their frequency for Florida branch with medium rating\n",
    "word_count = word_vect.fit_transform(universal_df[(universal_df['branch']=='Universal Studios Florida') & (universal_df['rating']==3)]['stemmed_string_review'])\n",
    "feature_names = word_vect.get_feature_names()\n",
    "dic = {}\n",
    "for col in word_count.nonzero()[1]:\n",
    "    dic[feature_names[col]] = word_count[0, col]\n",
    "\n",
    "print(sorted(dic, key=dic.get, reverse= True)[:50])\n"
   ]
  },
  {
   "cell_type": "code",
   "execution_count": 137,
   "id": "92f1eebb",
   "metadata": {},
   "outputs": [
    {
     "name": "stdout",
     "output_type": "stream",
     "text": [
      "['seat', 'ride', 'get', 'person', 'tri', 'test', 'green', 'light', 'go', 'long', 'line', 'turn', 'away', 'oper', 'say', 'cant', 'actual', 'give', 'express', 'pass', 'group', 'rectifi', 'situat', 'ok', 'stress', 'enough', 'anyon', 'everyon', 'univers', 'studio', 'orlando', 'make', 'sure', 'take', 'time', 'see', 'bourn', 'stuntaculari', 'watch', 'xs', 'wasnt', 'never', 'knew', 'jason', 'buy', 'movi', 'absolut', 'awesom', 'amaz', 'worth']\n"
     ]
    }
   ],
   "source": [
    "# Create a dictionary of words with their frequency for Florida branch with high rating\n",
    "word_count = word_vect.fit_transform(universal_df[(universal_df['branch']=='Universal Studios Florida') & (universal_df['rating']>=4)]['stemmed_string_review'])\n",
    "feature_names = word_vect.get_feature_names()\n",
    "dic = {}\n",
    "for col in word_count.nonzero()[1]:\n",
    "    dic[feature_names[col]] = word_count[0, col]\n",
    "\n",
    "print(sorted(dic, key=dic.get, reverse= True)[:50])\n"
   ]
  },
  {
   "cell_type": "code",
   "execution_count": 139,
   "id": "43e5511d",
   "metadata": {},
   "outputs": [
    {
     "name": "stdout",
     "output_type": "stream",
     "text": [
      "['wait', 'attract', 'estim', 'time', 'ride', 'mani', 'close', 'still', 'full', 'price', 'inform', 'book', 'dont', 'think', 'function', 'differ', 'correct', 'covid', 'everi', 'second', 'row', 'seat', 'left', 'unus', 'doubl', 'end', 'hour', 'last', 'mayb', 'minut', 'nonholiday', 'friday', 'start', 'pm', 'min', 'mean', 'gon', 'na', 'spend', 'line', 'worth', 'food', 'terribl', 'overpr', 'rain', 'visit', 'pretti', 'sure', 'never', 'ever']\n"
     ]
    }
   ],
   "source": [
    "# Create a dictionary of words with their frequency for Singapore branch with low rating\n",
    "word_count = word_vect.fit_transform(universal_df[(universal_df['branch']=='Universal Studios Singapore') & (universal_df['rating']<=2)]['stemmed_string_review'])\n",
    "feature_names = word_vect.get_feature_names()\n",
    "dic = {}\n",
    "for col in word_count.nonzero()[1]:\n",
    "    dic[feature_names[col]] = word_count[0, col]\n",
    "\n",
    "print(sorted(dic, key=dic.get, reverse= True)[:50])\n"
   ]
  },
  {
   "cell_type": "code",
   "execution_count": 140,
   "id": "aa7085cb",
   "metadata": {},
   "outputs": [
    {
     "name": "stdout",
     "output_type": "stream",
     "text": [
      "['umm', 'total', 'understand', 'lot', 'limit', 'period', 'howev', 'realli', 'recommend', 'famili', 'kid', 'year', 'old', 'noth', 'much', 'child', 'take', 'visit', 'day', 'pre', 'book', 'ticket', 'luckili', 'line', 'long', 'entri', 'smaller', 'expect', 'price', 'unexpect', 'love', 'nevertheless', 'roller', 'coaster', 'fearsom', 'ride', 'young', 'peopl', 'would', 'made', 'children', 'cri', 'fear', 'restrict', 'pandem', 'mani', 'shop', 'close', 'gener', 'disappoint']\n"
     ]
    }
   ],
   "source": [
    "# Create a dictionary of words with their frequency for Singapore branch with medium rating\n",
    "word_count = word_vect.fit_transform(universal_df[(universal_df['branch']=='Universal Studios Singapore') & (universal_df['rating']==3)]['stemmed_string_review'])\n",
    "feature_names = word_vect.get_feature_names()\n",
    "dic = {}\n",
    "for col in word_count.nonzero()[1]:\n",
    "    dic[feature_names[col]] = word_count[0, col]\n",
    "\n",
    "print(sorted(dic, key=dic.get, reverse= True)[:50])\n"
   ]
  },
  {
   "cell_type": "code",
   "execution_count": 141,
   "id": "b43f60aa",
   "metadata": {},
   "outputs": [
    {
     "name": "stdout",
     "output_type": "stream",
     "text": [
      "['place', 'awesom', 'ride', 'intrigu', 'fill', 'thrill', 'adventur', 'even', 'small', 'show', 'fantast', 'excel', 'plan', 'go', 'vacat', 'famili', 'friend', 'want', 'make', 'trip', 'excit', 'spontan', 'lot', 'activ', 'univers', 'studio', 'singapor', 'open', 'part', 'resort', 'world', 'sentosa', 'complex', 'island', 'love', 'theme', 'zone', 'attract', 'shop', 'eat', 'establish', 'street', 'entertain', 'perform', 'live', 'movi', 'charact', 'avail', 'park', 'favorit']\n"
     ]
    }
   ],
   "source": [
    "# Create a dictionary of words with their frequency for Singapore branch with high rating\n",
    "word_count = word_vect.fit_transform(universal_df[(universal_df['branch']=='Universal Studios Singapore') & (universal_df['rating']>=4)]['stemmed_string_review'])\n",
    "feature_names = word_vect.get_feature_names()\n",
    "dic = {}\n",
    "for col in word_count.nonzero()[1]:\n",
    "    dic[feature_names[col]] = word_count[0, col]\n",
    "\n",
    "print(sorted(dic, key=dic.get, reverse= True)[:50])\n"
   ]
  },
  {
   "cell_type": "code",
   "execution_count": 142,
   "id": "605541ca",
   "metadata": {},
   "outputs": [
    {
     "name": "stdout",
     "output_type": "stream",
     "text": [
      "['expens', 'noth', 'special', 'throw', 'rubbish', 'bentou', 'buy', 'food', 'park', 'crazi', 'know', 'incred', 'annoy', 'japanes', 'peopl', 'get', 'come', 'dumbl', 'appli', 'rule', 'read', 'care', 'english', 'day', 'go', 'avoid', 'problem', 'ala', 'still', 'manag', 'find', 'someth', 'nitpick', 'bag', 'bottl', 'water', 'appar', 'overs', 'joke', 'took', 'thank', 'got', 'heatstrok', 'contact', 'custom', 'servic', 'dont', 'great', 'never', 'osaka']\n"
     ]
    }
   ],
   "source": [
    "# Create a dictionary of words with their frequency for Japan branch with low rating\n",
    "word_count = word_vect.fit_transform(universal_df[(universal_df['branch']=='Universal Studios Japan') & (universal_df['rating']<=2)]['stemmed_string_review'])\n",
    "feature_names = word_vect.get_feature_names()\n",
    "dic = {}\n",
    "for col in word_count.nonzero()[1]:\n",
    "    dic[feature_names[col]] = word_count[0, col]\n",
    "\n",
    "print(sorted(dic, key=dic.get, reverse= True)[:50])\n"
   ]
  },
  {
   "cell_type": "code",
   "execution_count": 143,
   "id": "eac9936b",
   "metadata": {},
   "outputs": [
    {
     "name": "stdout",
     "output_type": "stream",
     "text": [
      "['time', 'kid', 'park', 'ride', 'almost', 'rain', 'close', 'great', 'due', 'pm', 'bit', 'area', 'look', 'magic', 'wand', 'queue', 'mani', 'year', 'min', 'fair', 'catch', 'miss', 'even', 'though', 'also', 'around', 'line', 'need', 'japan', 'entri', 'visit', 'land', 'amaz', 'definit', 'show', 'wast', 'price', 'long', 'small', 'sesam', 'st', 'movi', 'get', 'disappoint', 'charact', 'hour', 'disneyland', 'univers', 'crappi', 'disney']\n"
     ]
    }
   ],
   "source": [
    "# Create a dictionary of words with their frequency for Japan branch with medium rating\n",
    "word_count = word_vect.fit_transform(universal_df[(universal_df['branch']=='Universal Studios Japan') & (universal_df['rating']==3)]['stemmed_string_review'])\n",
    "feature_names = word_vect.get_feature_names()\n",
    "dic = {}\n",
    "for col in word_count.nonzero()[1]:\n",
    "    dic[feature_names[col]] = word_count[0, col]\n",
    "\n",
    "print(sorted(dic, key=dic.get, reverse= True)[:50])\n"
   ]
  },
  {
   "cell_type": "code",
   "execution_count": 144,
   "id": "97e05c19",
   "metadata": {},
   "outputs": [
    {
     "name": "stdout",
     "output_type": "stream",
     "text": [
      "['japan', 'architectur', 'tokyo', 'bring', '日本是一個藝術的國家之一', '東京到大阪建築文物帶出了日本的風格寺廟方面較為熱門重點壯觀美麗外表', '奪目金色還有不同寺廟也帶出各有特色城市建築較為規律也帶出繁華日本另一面', '東京日本各有特色美食非常吸引難忘的回憶個人意見提供參考starchan', 'one', 'countri', 'art', 'relic', 'osaka', 'japanes', 'style', 'local', 'aspect', 'focus', 'beauti', 'appear', 'dazzl', 'gold', 'differ', 'also', 'distinct', 'urban', 'regular', 'prosper', 'side', 'uniqu', 'cuisin', 'attract', 'unforgett', 'memori', 'person', 'opinion', 'provid', 'refer', 'starchan', 'love', 'usj', 'there', 'someth', 'park', 'staff', 'kind', 'merchandis', 'quit', 'locat', 'recommend']\n"
     ]
    }
   ],
   "source": [
    "# Create a dictionary of words with their frequency for Japan branch with high rating\n",
    "word_count = word_vect.fit_transform(universal_df[(universal_df['branch']=='Universal Studios Japan') & (universal_df['rating']>=4)]['stemmed_string_review'])\n",
    "feature_names = word_vect.get_feature_names()\n",
    "dic = {}\n",
    "for col in word_count.nonzero()[1]:\n",
    "    dic[feature_names[col]] = word_count[0, col]\n",
    "\n",
    "print(sorted(dic, key=dic.get, reverse= True)[:50])\n"
   ]
  },
  {
   "cell_type": "code",
   "execution_count": null,
   "id": "85cae865",
   "metadata": {},
   "outputs": [],
   "source": []
  }
 ],
 "metadata": {
  "kernelspec": {
   "display_name": "Python 3",
   "language": "python",
   "name": "python3"
  },
  "language_info": {
   "codemirror_mode": {
    "name": "ipython",
    "version": 3
   },
   "file_extension": ".py",
   "mimetype": "text/x-python",
   "name": "python",
   "nbconvert_exporter": "python",
   "pygments_lexer": "ipython3",
   "version": "3.8.8"
  }
 },
 "nbformat": 4,
 "nbformat_minor": 5
}
